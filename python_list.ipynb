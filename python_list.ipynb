{
 "cells": [
  {
   "cell_type": "code",
   "execution_count": 2,
   "id": "d5f8a50a",
   "metadata": {},
   "outputs": [
    {
     "name": "stdout",
     "output_type": "stream",
     "text": [
      "[1, 3.14, True, [1, 3, 4], 'Farhan']\n",
      "1\n",
      "[1, 3, 4]\n",
      "Farhan\n",
      "[1, 3, 4]\n",
      "True\n",
      "[3.14, True, [1, 3, 4]]\n",
      "[1, 3.14, True]\n",
      "[True, [1, 3, 4], 'Farhan']\n",
      "[True, [1, 3, 4], 'Farhan']\n",
      "[3.14, True, [1, 3, 4]]\n",
      "[1, 3.14, True, [1, 3, 4], 'Farhan', 'New Item']\n",
      "[1, 3.14, 'Inserted Item', True, [1, 3, 4], 'Farhan', 'New Item']\n",
      "[1, 'Inserted Item', True, [1, 3, 4], 'Farhan', 'New Item']\n",
      "[1, 'Inserted Item', True, [1, 3, 4], 'Farhan']\n",
      "['Inserted Item', True, [1, 3, 4], 'Farhan']\n",
      "['Inserted Item', True, [1, 3, 4], 'Farhan', 10, 20, 30]\n",
      "[30, 20, 10, 'Farhan', [1, 3, 4], True, 'Inserted Item']\n"
     ]
    }
   ],
   "source": [
    "#All about lists\n",
    "#Lists are mutable, ordered collections of items\n",
    "#Lists can contain any data type, including other lists\n",
    "\n",
    "l1 = [1, 3.14, True, [1, 3, 4], \"Farhan\"]\n",
    "print(l1)\n",
    "\n",
    "print(l1[0])  # Accessing the first element\n",
    "print(l1[3])  # Accessing the fourth element, which is a list\n",
    "\n",
    "# Negative indexing\n",
    "print(l1[-1])  # Accessing the last element\n",
    "print(l1[-2])  # Accessing the second last element\n",
    "print(l1[-3])  # Accessing the third last element\n",
    "\n",
    "# Slicing\n",
    "print(l1[1:4])  # Slicing from index 1 to 3 (4 is exclusive)\n",
    "print(l1[:3])   # Slicing from the start to index 2\n",
    "print(l1[2:])   # Slicing from index 2 to the end\n",
    "print(l1[-3:])  # Slicing from the third last element to the end\n",
    "print(l1[-4:-1])  # Slicing from the fourth last to the second last element\n",
    "\n",
    "# List methods\n",
    "l1.append(\"New Item\")  # Adding an item to the end of the list\n",
    "print(l1)\n",
    "\n",
    "l1.insert(2, \"Inserted Item\")  # Inserting an item at index 2\n",
    "print(l1)\n",
    "\n",
    "l1.remove(3.14)  # Removing the first occurrence of 3.14\n",
    "\n",
    "print(l1)\n",
    "\n",
    "l1.pop()  # Removing and returning the last item\n",
    "print(l1)\n",
    "\n",
    "l1.pop(0)  # Removing and returning the first item\n",
    "print(l1)\n",
    "\n",
    "\n",
    "l1.extend([10, 20, 30])  # Extending the list with another list\n",
    "print(l1)\n",
    "\n",
    "l1.reverse()  # Reversing the list\n",
    "print(l1)\n",
    "\n"
   ]
  },
  {
   "cell_type": "code",
   "execution_count": 4,
   "id": "31939aea",
   "metadata": {},
   "outputs": [
    {
     "name": "stdout",
     "output_type": "stream",
     "text": [
      "30\n",
      "20\n",
      "10\n",
      "Farhan\n",
      "[1, 3, 4]\n",
      "True\n",
      "Inserted Item\n",
      "Farhan is in the list\n",
      "Index of 'Farhan': 3\n"
     ]
    }
   ],
   "source": [
    "for item in l1:\n",
    "    print(item)  # Iterating through the list and printing each item\n",
    "\n",
    "# Checking if an item exists in the list\n",
    "if \"Farhan\" in l1:\n",
    "    print(\"Farhan is in the list\")\n",
    "else:\n",
    "    print(\"Farhan is not in the list\")\n",
    "\n",
    "\n",
    "# Finding the index of an item\n",
    "index_of_farhan = l1.index(\"Farhan\") if \"Farhan\" in l1 else -1\n",
    "print(f\"Index of 'Farhan': {index_of_farhan}\")"
   ]
  },
  {
   "cell_type": "code",
   "execution_count": null,
   "id": "9214aa18",
   "metadata": {},
   "outputs": [
    {
     "name": "stdout",
     "output_type": "stream",
     "text": [
      "Error while sorting: '<' not supported between instances of 'str' and 'int'\n",
      "Copied list: [30, 20, 10, 'Farhan', [1, 3, 4], True, 'Inserted Item']\n"
     ]
    }
   ],
   "source": [
    "# sorting the list [# Note: Sorting will raise an error if the list contains mixed data types\n",
    "# because Python cannot compare different data types directly]\n",
    "\n",
    "try:\n",
    "    l1.sort()  # Sorting the list in ascending order\n",
    "    print(\"Sorted list:\", l1)\n",
    "except TypeError as e:\n",
    "    print(\"Error while sorting:\", e)\n"
   ]
  },
  {
   "cell_type": "code",
   "execution_count": 7,
   "id": "16a45103",
   "metadata": {},
   "outputs": [
    {
     "name": "stdout",
     "output_type": "stream",
     "text": [
      "Original list: [1, 2, 3, 4, 5]\n",
      "Copied list: [1, 2, 3, 4, 5]\n"
     ]
    }
   ],
   "source": [
    "#Cpoy list\n",
    "l1 = [1, 2, 3, 4, 5]\n",
    "l2 = l1.copy()  # Creating a shallow copy of the list\n",
    "print(\"Original list:\", l1)\n",
    "print(\"Copied list:\", l2)\n"
   ]
  },
  {
   "cell_type": "code",
   "execution_count": null,
   "id": "22abd690",
   "metadata": {},
   "outputs": [
    {
     "name": "stdout",
     "output_type": "stream",
     "text": [
      "[1, 2, 3, 4, 5, 6, 6]\n",
      "[1, 2, 3, 4, 5]\n"
     ]
    }
   ],
   "source": [
    "l1.append(6)\n",
    "print(l1)\n",
    "print(l2)  # The copied list remains unchanged"
   ]
  },
  {
   "cell_type": "code",
   "execution_count": 10,
   "id": "fe93bb34",
   "metadata": {},
   "outputs": [
    {
     "name": "stdout",
     "output_type": "stream",
     "text": [
      "Reference list: [1, 2, 3, 4, 5, 6, 6]\n",
      "After modifying l1:\n",
      "l1: [1, 2, 3, 4, 5, 6, 6, 7]\n",
      "l3: [1, 2, 3, 4, 5, 6, 6, 7]\n"
     ]
    }
   ],
   "source": [
    "l3 = l1  # This creates a reference to the same list, not a copy\n",
    "print(\"Reference list:\", l3)\n",
    "l1.append(7)\n",
    "print(\"After modifying l1:\")\n",
    "print(\"l1:\", l1)\n",
    "print(\"l3:\", l3)  # Changes in l1 will reflect in l3 since they reference the same list"
   ]
  },
  {
   "cell_type": "code",
   "execution_count": 13,
   "id": "236a4385",
   "metadata": {},
   "outputs": [
    {
     "name": "stdout",
     "output_type": "stream",
     "text": [
      "1 2 3 4 5 6 6 7 \n"
     ]
    }
   ],
   "source": [
    "for item in l1:\n",
    "    print(item, end = ' ')  # Iterating through the list and printing each item\n",
    "\n",
    "print()"
   ]
  },
  {
   "cell_type": "code",
   "execution_count": 20,
   "id": "a0f845af",
   "metadata": {},
   "outputs": [],
   "source": [
    "# pass in python\n",
    "# The pass statement is used as a placeholder for future code.\n",
    "\n",
    "# When the pass statement is executed, nothing happens, but you avoid getting an error when empty code is not allowed.\n",
    "\n",
    "# Empty code is not allowed in loops, function definitions, class definitions, or in if statements."
   ]
  },
  {
   "cell_type": "code",
   "execution_count": 21,
   "id": "04a4d750",
   "metadata": {},
   "outputs": [
    {
     "name": "stdout",
     "output_type": "stream",
     "text": [
      "10 20 30 40 50 "
     ]
    }
   ],
   "source": [
    "l1 = [10, 20, 30, 40, 50]\n",
    "for item in l1:\n",
    "    if item == 30:\n",
    "        pass  # Placeholder for future code\n",
    "    print(item, end=' ')  # This will still print all items, including the one where pass is used"
   ]
  },
  {
   "cell_type": "code",
   "execution_count": 22,
   "id": "90d06447",
   "metadata": {},
   "outputs": [
    {
     "name": "stdout",
     "output_type": "stream",
     "text": [
      "False\n",
      "True\n"
     ]
    }
   ],
   "source": [
    "#  All / Any\n",
    "#  The all() method returns:\n",
    "#  True - If all elements in a list are true\n",
    "#  False - If any element in a list is false\n",
    "#  The any() function returns True if any element in the list is True. If not, any() returns False\n",
    "\n",
    "L1 = [1,2,3,4,0]\n",
    "print(all(L1))  # Returns False because 0 is considered False\n",
    "print(any(L1))  # Returns True because there are non-zero elements"
   ]
  },
  {
   "cell_type": "code",
   "execution_count": 24,
   "id": "f012c2f5",
   "metadata": {},
   "outputs": [
    {
     "name": "stdout",
     "output_type": "stream",
     "text": [
      "['F', 'a', 'r', 'h', 'a', 'n', 'K', 'h', 'a', 'n']\n"
     ]
    }
   ],
   "source": [
    "#  List Comprehensions\n",
    "#  List comprehensions provide a concise way to create lists.\n",
    "#  It consists of brackets containing an expression followed by a for clause, and optionally, one or more for or if clauses.\n",
    "\n",
    "\n",
    "s = \"FarhanKhan\"\n",
    "l1 = [char for char in s]\n",
    "print(l1)  # ['F', 'a', 'r', 'h', 'a', 'n', 'K', 'h', 'a', 'n']"
   ]
  },
  {
   "cell_type": "code",
   "execution_count": 26,
   "id": "c607fda9",
   "metadata": {},
   "outputs": [
    {
     "name": "stdout",
     "output_type": "stream",
     "text": [
      "[1, 4, 3, 16, 5, 36]\n"
     ]
    }
   ],
   "source": [
    "#More examples\n",
    "l1 = [1, 2, 3, 4, 5, 6]\n",
    "\n",
    "l2 = [val ** 2 if (val % 2) == 0 else val for val in l1]\n",
    "\n",
    "print(l2)  # [1, 4, 3, 16, 5, 36] - squares even numbers, keeps odd numbers unchanged"
   ]
  },
  {
   "cell_type": "code",
   "execution_count": 27,
   "id": "5e457b09",
   "metadata": {},
   "outputs": [
    {
     "name": "stdout",
     "output_type": "stream",
     "text": [
      "[4, 16, 36]\n"
     ]
    }
   ],
   "source": [
    "l3 = [val ** 2 for val in l1 if (val %2) == 0]\n",
    "print(l3)  # [4, 16, 36] - squares only even numbers, skips odd numbers"
   ]
  },
  {
   "cell_type": "code",
   "execution_count": 38,
   "id": "0b10a266",
   "metadata": {},
   "outputs": [
    {
     "name": "stdout",
     "output_type": "stream",
     "text": [
      "[1, 2, 3, 4, 5, 6, 7, 8, 9, 10]\n"
     ]
    }
   ],
   "source": [
    "\n",
    "l4 = [val for val in range(1, 11)]\n",
    "print(l4)  # [1, 2, 3, 4, 5, 6, 7, 8, 9, 10] - creates a list of numbers from 1 to 10"
   ]
  },
  {
   "cell_type": "code",
   "execution_count": 39,
   "id": "d32edf80",
   "metadata": {},
   "outputs": [
    {
     "name": "stdout",
     "output_type": "stream",
     "text": [
      "[1, 2, 6, 7, 8, 9, 10]\n"
     ]
    }
   ],
   "source": [
    "del l4[2:5]  # Deletes elements from index 2 to 4 (3rd to 5th elements)\n",
    "\n",
    "print(l4)"
   ]
  },
  {
   "cell_type": "code",
   "execution_count": null,
   "id": "5676f77e",
   "metadata": {},
   "outputs": [],
   "source": []
  }
 ],
 "metadata": {
  "kernelspec": {
   "display_name": "Python 3",
   "language": "python",
   "name": "python3"
  },
  "language_info": {
   "codemirror_mode": {
    "name": "ipython",
    "version": 3
   },
   "file_extension": ".py",
   "mimetype": "text/x-python",
   "name": "python",
   "nbconvert_exporter": "python",
   "pygments_lexer": "ipython3",
   "version": "3.12.2"
  }
 },
 "nbformat": 4,
 "nbformat_minor": 5
}
