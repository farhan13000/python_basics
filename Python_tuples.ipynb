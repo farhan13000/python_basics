{
 "cells": [
  {
   "cell_type": "code",
   "execution_count": 1,
   "id": "5da28533",
   "metadata": {},
   "outputs": [
    {
     "name": "stdout",
     "output_type": "stream",
     "text": [
      "1\n",
      "hello\n",
      "(2, 3, 'hello')\n",
      "(2, 3)\n",
      "1\n",
      "hello\n",
      "(1, 2, 3, 'hello', True, 7, 8, 9)\n",
      "1 2 3 hello True 7 8 9 True\n",
      "True\n",
      "5\n",
      "1\n",
      "3\n"
     ]
    }
   ],
   "source": [
    "# All about tuples in python\n",
    "# Tuples are immutable sequences in Python, which means they cannot be changed after creation.\n",
    "# They are defined using parentheses () and can contain any type of data.\n",
    "# Example of creating a tuple\n",
    "my_tuple = (1, 2, 3, \"hello\", True)\n",
    "# Accessing elements in a tuple\n",
    "\n",
    "print(my_tuple[0])  # Output: 1\n",
    "print(my_tuple[3])  # Output: hello\n",
    "\n",
    "# Slicing a tuple\n",
    "print(my_tuple[1:4])  # Output: (2, 3, 'hello')\n",
    "\n",
    "# Tuples can also be nested\n",
    "nested_tuple = (1, (2, 3), (4, 5, 6))\n",
    "print(nested_tuple[1])  # Output: (2, 3)\n",
    "\n",
    "# Tuples can be unpacked into variables\n",
    "a, b, c, d, e = my_tuple\n",
    "print(a)  # Output: 1\n",
    "print(d)  # Output: hello\n",
    "# Tuples can be concatenated\n",
    "another_tuple = (7, 8, 9)\n",
    "\n",
    "combined_tuple = my_tuple + another_tuple\n",
    "print(combined_tuple)  # Output: (1, 2, 3, 'hello', True, 7, 8, 9)\n",
    "\n",
    "for item in combined_tuple:\n",
    "    print(item, end=' ')  # Output: 1 2 3 hello True 7 8 9\n",
    "\n",
    "# Checking if an item exists in a tuple\n",
    "print(3 in my_tuple)  # Output: True\n",
    "print(\"hello\" in my_tuple)  # Output: True\n",
    "# Finding the length of a tuple\n",
    "print(len(my_tuple))  # Output: 5\n",
    "\n",
    "# Counting occurrences of an item in a tuple\n",
    "print(my_tuple.count(2))  # Output: 1\n",
    "# Finding the index of an item in a tuple\n",
    "print(my_tuple.index(\"hello\"))  # Output: 3\n",
    "\n"
   ]
  },
  {
   "cell_type": "code",
   "execution_count": 5,
   "id": "c2d35b4a",
   "metadata": {},
   "outputs": [
    {
     "name": "stdout",
     "output_type": "stream",
     "text": [
      "[1, 3, 3, 4]\n",
      "<class 'list'>\n"
     ]
    }
   ],
   "source": [
    "l1 = (3, 1, 3, 4)\n",
    "sorted_tuple = (sorted(l1))\n",
    "print(sorted_tuple)  # Output: [1, 3, 3, 4]\n",
    "print(type(sorted_tuple)) # Output: <class 'list'>\n",
    "# Note: sorted() returns a list, not a tuple. To convert it back to a tuple:"
   ]
  },
  {
   "cell_type": "code",
   "execution_count": 6,
   "id": "92fe07f8",
   "metadata": {},
   "outputs": [
    {
     "name": "stdout",
     "output_type": "stream",
     "text": [
      "[4, 3, 3, 1]\n"
     ]
    }
   ],
   "source": [
    "l3 = sorted(l1, reverse=True)\n",
    "print(l3)"
   ]
  },
  {
   "cell_type": "code",
   "execution_count": null,
   "id": "189596fc",
   "metadata": {},
   "outputs": [],
   "source": []
  }
 ],
 "metadata": {
  "kernelspec": {
   "display_name": "Python 3",
   "language": "python",
   "name": "python3"
  },
  "language_info": {
   "codemirror_mode": {
    "name": "ipython",
    "version": 3
   },
   "file_extension": ".py",
   "mimetype": "text/x-python",
   "name": "python",
   "nbconvert_exporter": "python",
   "pygments_lexer": "ipython3",
   "version": "3.12.2"
  }
 },
 "nbformat": 4,
 "nbformat_minor": 5
}
