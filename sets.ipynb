{
 "cells": [
  {
   "cell_type": "code",
   "execution_count": 4,
   "id": "a3a734b0",
   "metadata": {},
   "outputs": [
    {
     "name": "stdout",
     "output_type": "stream",
     "text": [
      "{1, 2, 3, 4, 5}\n",
      "<class 'set'>\n"
     ]
    }
   ],
   "source": [
    "st1 = set((1, 2, 3, 4, 5))\n",
    "print(st1)\n",
    "print(type(st1))"
   ]
  },
  {
   "cell_type": "code",
   "execution_count": 5,
   "id": "c6bd7a35",
   "metadata": {},
   "outputs": [
    {
     "name": "stdout",
     "output_type": "stream",
     "text": [
      "1\n",
      "2\n",
      "3\n",
      "4\n",
      "5\n"
     ]
    }
   ],
   "source": [
    "for item in st1:\n",
    "    print(item)"
   ]
  },
  {
   "cell_type": "code",
   "execution_count": 36,
   "id": "7d816ad5",
   "metadata": {},
   "outputs": [
    {
     "name": "stdout",
     "output_type": "stream",
     "text": [
      "{1, 2, 3, 4, 5, 6, 7, 8}\n",
      "{4, 5}\n",
      "{1, 2, 3}\n",
      "{8, 6, 7}\n",
      "{1, 2, 3, 6, 7, 8}\n",
      "False\n",
      "True\n",
      "True\n"
     ]
    }
   ],
   "source": [
    "a = set((1, 2, 3, 4, 5))\n",
    "b = set((4, 5, 6, 7, 8))\n",
    "\n",
    "print(a | b)  # Union\n",
    "print(a & b)  # Intersection\n",
    "print(a - b)  # Difference\n",
    "print(b - a)\n",
    "print(a ^ b)  # Symmetric difference\n",
    "# symmetric difference is the elements that are in either set, but not in both\n",
    "\n",
    "\n",
    "a = set((1, 2, 3, 4, 5))\n",
    "b = set((2, 3))\n",
    "\n",
    "print(a.issubset(b))  # False\n",
    "print(b.issubset(a))  # True\n",
    "print(a.issuperset(b))  # True"
   ]
  },
  {
   "cell_type": "code",
   "execution_count": 12,
   "id": "9a8ca569",
   "metadata": {},
   "outputs": [
    {
     "name": "stdout",
     "output_type": "stream",
     "text": [
      "{1, 2, 3, 4, 5}\n"
     ]
    }
   ],
   "source": [
    "# note that the order of elements in a set is not guaranteed\n",
    "# and may change each time you run the code\n",
    "# Creating a set using a tuple\n",
    "st2 = set((1, 2, 3, 4, 5))\n",
    "print(st2)"
   ]
  },
  {
   "cell_type": "code",
   "execution_count": 14,
   "id": "d48813e3",
   "metadata": {},
   "outputs": [
    {
     "name": "stdout",
     "output_type": "stream",
     "text": [
      "{1, 2, 3, 4.5, (1, 2), 'hello'}\n",
      "Error: unhashable type: 'list'\n"
     ]
    }
   ],
   "source": [
    "# set elements can be of any immutable type\n",
    "st3 = set((1, 2, 3, 4.5, 'hello', (1, 2)))\n",
    "print(st3)\n",
    "# Attempting to create a set with a mutable type will raise an error\n",
    "try:\n",
    "    st4 = set((1, 2, [3, 4], 5))  # This will raise an error\n",
    "except TypeError as e:\n",
    "    print(f\"Error: {e}\")\n"
   ]
  },
  {
   "cell_type": "code",
   "execution_count": 25,
   "id": "5eb56a08",
   "metadata": {},
   "outputs": [
    {
     "name": "stdout",
     "output_type": "stream",
     "text": [
      "1\n",
      "{2, 3, 4, 5}\n",
      "{2, 3, 4, 5, 6}\n"
     ]
    }
   ],
   "source": [
    "st5 = set((1, 2, 3, 4, 5))\n",
    "print(st5.pop())\n",
    "# The pop method removes and returns an arbitrary element from the set\n",
    "print(st5)\n",
    "st5.add(6)  # Adding an element to the set\n",
    "print(st5)\n",
    "st5.clear()"
   ]
  },
  {
   "cell_type": "code",
   "execution_count": 27,
   "id": "7d297c88",
   "metadata": {},
   "outputs": [
    {
     "name": "stdout",
     "output_type": "stream",
     "text": [
      "{1, 2, 3, 4}\n"
     ]
    }
   ],
   "source": [
    "st_a = set((1, 2, 3))\n",
    "st_b = st_a\n",
    "st_b.add(4)  # Modifying st_b will also modify st_a\n",
    "print(st_a)  # Both sets reflect the change"
   ]
  },
  {
   "cell_type": "code",
   "execution_count": 28,
   "id": "06647315",
   "metadata": {},
   "outputs": [
    {
     "name": "stdout",
     "output_type": "stream",
     "text": [
      "{1, 2, 3, 4}\n",
      "{1, 2, 3, 4, 5}\n"
     ]
    }
   ],
   "source": [
    "st_c = st_a.copy()  # Creating a copy of st_a\n",
    "st_c.add(5)  # Modifying st_c will not affect st_a\n",
    "print(st_a)  # st_a remains unchanged\n",
    "print(st_c)  # st_c reflects the change "
   ]
  },
  {
   "cell_type": "code",
   "execution_count": 30,
   "id": "8492d778",
   "metadata": {},
   "outputs": [
    {
     "name": "stdout",
     "output_type": "stream",
     "text": [
      "15\n",
      "5\n",
      "1\n",
      "5\n",
      "True\n"
     ]
    }
   ],
   "source": [
    "st1 = set((1, 2, 3, 4, 5))\n",
    "print(sum(st1))\n",
    "print(max(st1))\n",
    "print(min(st1))\n",
    "print(len(st1))  # Length of the set\n",
    "print(3 in st1)  # Check if an element is in the set"
   ]
  },
  {
   "cell_type": "code",
   "execution_count": 35,
   "id": "a6a1345f",
   "metadata": {},
   "outputs": [
    {
     "name": "stdout",
     "output_type": "stream",
     "text": [
      "3 is in the set\n"
     ]
    }
   ],
   "source": [
    "try:\n",
    "    if 3 not in st1:\n",
    "        print(\"3 is not in the set\")\n",
    "    else:\n",
    "        print(\"3 is in the set\")\n",
    "except TypeError as e:\n",
    "    print(\"Hai!!!!\")"
   ]
  },
  {
   "cell_type": "code",
   "execution_count": 39,
   "id": "75f13751",
   "metadata": {},
   "outputs": [
    {
     "name": "stdout",
     "output_type": "stream",
     "text": [
      "[5, 4, 3, 2, 1]\n"
     ]
    }
   ],
   "source": [
    "st5 = set((1, 2, 3, 4, 5))\n",
    "srtd = sorted(st5, reverse=True)  # Sorting the set\n",
    "print(srtd)  # Output will be a sorted list"
   ]
  },
  {
   "cell_type": "code",
   "execution_count": 43,
   "id": "e55f4dff",
   "metadata": {},
   "outputs": [
    {
     "name": "stdout",
     "output_type": "stream",
     "text": [
      "(1, 2, 3, 4, 5)\n"
     ]
    }
   ],
   "source": [
    "st1 = set((1, 2, 3, 4, 5))\n",
    "lst1 = tuple(list(st1))  # Converting set to list which is then converted to a tuple\n",
    "print(lst1)  # Output will be a list"
   ]
  },
  {
   "cell_type": "code",
   "execution_count": null,
   "id": "880d04af",
   "metadata": {},
   "outputs": [],
   "source": []
  }
 ],
 "metadata": {
  "kernelspec": {
   "display_name": "Python 3",
   "language": "python",
   "name": "python3"
  },
  "language_info": {
   "codemirror_mode": {
    "name": "ipython",
    "version": 3
   },
   "file_extension": ".py",
   "mimetype": "text/x-python",
   "name": "python",
   "nbconvert_exporter": "python",
   "pygments_lexer": "ipython3",
   "version": "3.12.2"
  }
 },
 "nbformat": 4,
 "nbformat_minor": 5
}
