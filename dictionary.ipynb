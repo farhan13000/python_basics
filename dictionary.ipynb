{
 "cells": [
  {
   "cell_type": "code",
   "execution_count": 1,
   "id": "46968337",
   "metadata": {},
   "outputs": [],
   "source": [
    "dt = dict()"
   ]
  },
  {
   "cell_type": "code",
   "execution_count": 6,
   "id": "0a29afae",
   "metadata": {},
   "outputs": [
    {
     "name": "stdout",
     "output_type": "stream",
     "text": [
      "{'key1': 1, 'key2': 2, 'key3': 3}\n",
      "<class 'dict'>\n",
      "1\n",
      "2\n"
     ]
    }
   ],
   "source": [
    "dt[\"key1\"] = 1\n",
    "dt[\"key2\"] = 2\n",
    "dt[\"key3\"] = 3\n",
    "\n",
    "print(dt)\n",
    "print(type(dt))\n",
    "print(dt[\"key1\"])\n",
    "print(dt[\"key2\"])"
   ]
  },
  {
   "cell_type": "code",
   "execution_count": 7,
   "id": "45297b4c",
   "metadata": {},
   "outputs": [
    {
     "name": "stdout",
     "output_type": "stream",
     "text": [
      "False\n"
     ]
    }
   ],
   "source": [
    "print(\"key4\" in dt)"
   ]
  },
  {
   "cell_type": "code",
   "execution_count": 8,
   "id": "8fc4efee",
   "metadata": {},
   "outputs": [
    {
     "name": "stdout",
     "output_type": "stream",
     "text": [
      "key1 -> 1\n",
      "key2 -> 2\n",
      "key3 -> 3\n"
     ]
    }
   ],
   "source": [
    "for key in dt:\n",
    "    print(f\"{key} -> {dt[key]}\")\n"
   ]
  },
  {
   "cell_type": "code",
   "execution_count": 12,
   "id": "3f94455d",
   "metadata": {},
   "outputs": [
    {
     "name": "stdout",
     "output_type": "stream",
     "text": [
      "3\n",
      "dict_keys(['key1', 'key2', 'key3'])\n",
      "dict_values([1, 2, 3])\n",
      "dict_items([('key1', 1), ('key2', 2), ('key3', 3)])\n",
      "<class 'dict_items'>\n"
     ]
    }
   ],
   "source": [
    "print(len(dt)) # Output the keys and values\n",
    "print(dt.keys())  # Output the keys\n",
    "print(dt.values())  # Output the values\n",
    "print(dt.items())  # Output the key-value pairs\n",
    "print(type(dt.items()))  # Output the key-value pairs"
   ]
  },
  {
   "cell_type": "code",
   "execution_count": null,
   "id": "81f98150",
   "metadata": {},
   "outputs": [
    {
     "name": "stdout",
     "output_type": "stream",
     "text": [
      "{'a': 1, 'b': 2, 'c': 3, 'd': 4}\n"
     ]
    }
   ],
   "source": [
    "keys = [\"a\", \"b\", \"c\", \"d\"]\n",
    "values = [1, 2, 3, 4, 5] # Note: This list has more elements than keys but will be truncated\n",
    "dt2 = dict(zip(keys, values))  # Create a dictionary from two lists\n",
    "print(dt2)  # Output the new dictionary"
   ]
  },
  {
   "cell_type": "code",
   "execution_count": 19,
   "id": "c7996b58",
   "metadata": {},
   "outputs": [
    {
     "name": "stdout",
     "output_type": "stream",
     "text": [
      "{'F': 1, 'a': 2, 'r': 1, 'h': 1, 'n': 1}\n"
     ]
    }
   ],
   "source": [
    "s = \"Farhan\"\n",
    "mp = dict()\n",
    "for i in range(len(s)):\n",
    "    if s[i] in mp:\n",
    "        mp[s[i]] += 1\n",
    "    else:\n",
    "        mp[s[i]] = 1  # Count occurrences of each character\n",
    "\n",
    "print(mp)  # Output the character count dictionary\n",
    "mp = dict()"
   ]
  },
  {
   "cell_type": "code",
   "execution_count": 23,
   "id": "f3f78771",
   "metadata": {},
   "outputs": [
    {
     "name": "stdout",
     "output_type": "stream",
     "text": [
      "{2: 20, 5: 50}\n",
      "2 -> 20\n",
      "5 -> 50\n"
     ]
    }
   ],
   "source": [
    "dt3 = {}\n",
    "dt3[2] = 20  # Update an existing key\n",
    "dt3[5] = 50  # Add a new key-value pair\n",
    "print(dt3)  # Output the updated dictionary\n",
    "\n",
    "for item in dt3.items():\n",
    "    print(f\"{item[0]} -> {item[1]}\")  # Output each key-value pair"
   ]
  },
  {
   "cell_type": "code",
   "execution_count": 24,
   "id": "40d0a78f",
   "metadata": {},
   "outputs": [
    {
     "name": "stdout",
     "output_type": "stream",
     "text": [
      "{'key1': 1, 'key2': 2, 'key3': 3}\n",
      "{'key1': 1, 'key2': 2, 'key3': 3, 'key4': 4}\n",
      "{'key1': 1, 'key2': 2, 'key3': 3, 'key4': 4}\n"
     ]
    }
   ],
   "source": [
    "dt1 = {\"key1\": 1, \"key2\": 2, \"key3\": 3}\n",
    "dt2 = dt1\n",
    "print(dt2)  # Output the copied dictionary\n",
    "dt2[\"key4\"] = 4  # Add a new key-value pair to the copied dictionary\n",
    "print(dt1)  # Output the original dictionary to show it has also been modified\n",
    "print(dt2)  # Output the modified copied dictionary\n"
   ]
  },
  {
   "cell_type": "code",
   "execution_count": 26,
   "id": "6be6be5d",
   "metadata": {},
   "outputs": [
    {
     "name": "stdout",
     "output_type": "stream",
     "text": [
      "{'key1': 1, 'key2': 2, 'key3': 3, 'key4': 4}\n",
      "{'key1': 1, 'key2': 2, 'key3': 3, 'key4': 4}\n",
      "{'key1': 1, 'key2': 2, 'key3': 3, 'key4': 4, 'key5': 5}\n"
     ]
    }
   ],
   "source": [
    "dt3 = dt1.copy()  # Create a shallow copy of the dictionary\n",
    "print(dt3)  # Output the copied dictionary\n",
    "dt3[\"key5\"] = 5  # Add a new key-value pair to the copied dictionary\n",
    "print(dt1)  # Output the original dictionary to show it remains unchanged\n",
    "print(dt3)  # Output the modified copied dictionary"
   ]
  },
  {
   "cell_type": "code",
   "execution_count": 28,
   "id": "8d9c2692",
   "metadata": {},
   "outputs": [
    {
     "name": "stdout",
     "output_type": "stream",
     "text": [
      "{'a': 1.0, 'b': 2.0, 'c': 3.0}\n"
     ]
    }
   ],
   "source": [
    "d1 = {'a': 10, 'b': 20, 'c': 30}\n",
    "d2 = {key: (value) / 10 for (key, value) in d1.items()}\n",
    "print(d2)  # Output the new dictionary with values divided by 10"
   ]
  },
  {
   "cell_type": "code",
   "execution_count": null,
   "id": "48d17177",
   "metadata": {},
   "outputs": [],
   "source": []
  }
 ],
 "metadata": {
  "kernelspec": {
   "display_name": "Python 3",
   "language": "python",
   "name": "python3"
  },
  "language_info": {
   "codemirror_mode": {
    "name": "ipython",
    "version": 3
   },
   "file_extension": ".py",
   "mimetype": "text/x-python",
   "name": "python",
   "nbconvert_exporter": "python",
   "pygments_lexer": "ipython3",
   "version": "3.12.2"
  }
 },
 "nbformat": 4,
 "nbformat_minor": 5
}
