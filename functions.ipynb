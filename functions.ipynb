{
 "cells": [
  {
   "cell_type": "code",
   "execution_count": 23,
   "id": "a3c5b2f0",
   "metadata": {},
   "outputs": [
    {
     "name": "stdout",
     "output_type": "stream",
     "text": [
      "__main__\n",
      "Farhan\n"
     ]
    }
   ],
   "source": [
    "def func() :\n",
    "    print(__name__)\n",
    "    print(\"Farhan\")\n",
    "if __name__ == \"__main__\":\n",
    "    func()"
   ]
  },
  {
   "cell_type": "code",
   "execution_count": 24,
   "id": "43d822af",
   "metadata": {},
   "outputs": [
    {
     "name": "stdout",
     "output_type": "stream",
     "text": [
      "Sum: 5, Product: 6\n"
     ]
    }
   ],
   "source": [
    "def func2(a: float, b: float) -> float:\n",
    "    return a + b\n",
    "\n",
    "def func3(a: float, b: float) -> float:\n",
    "    return a * b\n",
    "\n",
    "sum = func2(2, 3)\n",
    "prod = func3(2, 3)\n",
    "print(f\"Sum: {sum}, Product: {prod}\")"
   ]
  },
  {
   "cell_type": "code",
   "execution_count": 25,
   "id": "16b8e4d9",
   "metadata": {},
   "outputs": [
    {
     "name": "stdout",
     "output_type": "stream",
     "text": [
      "10 2 3\n"
     ]
    }
   ],
   "source": [
    "def f1(a = 1, b = 2, c  = 3):\n",
    "    print(a, b, c)\n",
    "\n",
    "f1(10)"
   ]
  },
  {
   "cell_type": "code",
   "execution_count": 26,
   "id": "3e621cb3",
   "metadata": {},
   "outputs": [
    {
     "name": "stdout",
     "output_type": "stream",
     "text": [
      "1 2\n",
      "(3, 4, 5)\n",
      "<class 'tuple'>\n",
      "3\n",
      "4\n",
      "5\n"
     ]
    }
   ],
   "source": [
    "# *args\n",
    "def func(a, b, *args):\n",
    "    print(a, b)\n",
    "    print(args)\n",
    "    print(type(args))\n",
    "    for arg in args:\n",
    "        print(arg)\n",
    "\n",
    "func(1, 2, 3, 4, 5)"
   ]
  },
  {
   "cell_type": "code",
   "execution_count": 27,
   "id": "4ed0b233",
   "metadata": {},
   "outputs": [
    {
     "name": "stdout",
     "output_type": "stream",
     "text": [
      "1 20\n",
      "(3, 4, 5)\n",
      "<class 'tuple'>\n",
      "3\n",
      "4\n",
      "5\n"
     ]
    }
   ],
   "source": [
    "func(1, 20, 3, 4, 5)"
   ]
  },
  {
   "cell_type": "code",
   "execution_count": 29,
   "id": "042aa9c2",
   "metadata": {},
   "outputs": [],
   "source": [
    "# Understanding kwargs -> It is a dictionary that allows you to pass a variable number of keyword arguments to a function.\n",
    "# Understanding args -> It is a tuple that allows you to pass a variable number of non-keyword arguments to a function."
   ]
  },
  {
   "cell_type": "code",
   "execution_count": 30,
   "id": "4c6ff009",
   "metadata": {},
   "outputs": [
    {
     "name": "stdout",
     "output_type": "stream",
     "text": [
      "1 2\n",
      "(3, 4, 5)\n",
      "100 200\n",
      "1 2\n",
      "(3, 4, 5)\n",
      "100 200\n",
      "=========================================\n",
      "1 2\n",
      "(3, 4, 5)\n",
      "<class 'tuple'>\n",
      "{'c': 100, 'd': 200}\n",
      "<class 'dict'>\n"
     ]
    }
   ],
   "source": [
    "def func2(a, b, *args, c=10, d=20):\n",
    "    print(a, b)\n",
    "    print(args)\n",
    "    print(c, d)\n",
    "\n",
    "func2(1, 2, 3, 4, 5, c=100, d=200)\n",
    "func2(1, 2, 3, 4, 5, d=200, c=100)\n",
    "print(\"=========================================\")\n",
    "\n",
    "def func3(a, b, *args, **kwargs):\n",
    "    print(a, b)\n",
    "    print(args)\n",
    "    print(type(args))\n",
    "    print(kwargs)\n",
    "    print(type(kwargs))\n",
    "\n",
    "\n",
    "\n",
    "func3(1, 2, 3, 4, 5, c=100, d=200)"
   ]
  },
  {
   "cell_type": "code",
   "execution_count": null,
   "id": "8d540682",
   "metadata": {},
   "outputs": [
    {
     "name": "stdout",
     "output_type": "stream",
     "text": [
      "Inner: 25\n",
      "Outer: 10\n",
      "Global Example: 30\n"
     ]
    }
   ],
   "source": [
    "# Scope of variables\n",
    "def outer():\n",
    "    x = 10  # Local variable\n",
    "    def inner():\n",
    "        global x  # Accessing the nonlocal variable\n",
    "        x += 5\n",
    "        print(\"Inner:\", x)\n",
    "    inner()\n",
    "    print(\"Outer:\", x)\n",
    "\n",
    "outer()\n",
    "# Global variable\n",
    "x = 20  # Global variable\n",
    "def global_example():\n",
    "    global x  # Accessing the global variable\n",
    "    x += 10\n",
    "    print(\"Global Example:\", x)\n",
    "global_example()\n",
    "\n",
    "# global variable -> It is defined outside of any function and can be accessed from anywhere in the code.\n",
    "# nonlocal variable -> It is used to access variables from the nearest enclosing scope that is not global.\n",
    "# Local variable -> It is defined within a function and can only be accessed within that function.\n"
   ]
  },
  {
   "cell_type": "code",
   "execution_count": null,
   "id": "d939fc95",
   "metadata": {},
   "outputs": [],
   "source": []
  }
 ],
 "metadata": {
  "kernelspec": {
   "display_name": "Python 3",
   "language": "python",
   "name": "python3"
  },
  "language_info": {
   "codemirror_mode": {
    "name": "ipython",
    "version": 3
   },
   "file_extension": ".py",
   "mimetype": "text/x-python",
   "name": "python",
   "nbconvert_exporter": "python",
   "pygments_lexer": "ipython3",
   "version": "3.12.2"
  }
 },
 "nbformat": 4,
 "nbformat_minor": 5
}
