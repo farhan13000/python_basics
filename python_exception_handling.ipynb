{
 "cells": [
  {
   "cell_type": "code",
   "execution_count": 2,
   "id": "2de3d6bb",
   "metadata": {},
   "outputs": [
    {
     "name": "stdout",
     "output_type": "stream",
     "text": [
      "Trying to divide 1 by 0.\n",
      "An error occurred: division by zero\n",
      "Error Tyoe: <class 'ZeroDivisionError'>\n",
      "This is a generic exception handler.\n",
      "This is the finally block, which always executes.\n"
     ]
    }
   ],
   "source": [
    "# Accedent = Exception\n",
    "\n",
    "def do_division(a, b):\n",
    "    try:\n",
    "        print(f\"Trying to divide {a} by {b}.\")\n",
    "        print(a / b)\n",
    "    except Exception as e:\n",
    "        print(f\"An error occurred: {e}\")\n",
    "        print(f\"Error Tyoe: {type(e)}\")\n",
    "        print(\"This is a generic exception handler.\")\n",
    "    finally:\n",
    "        print(\"This is the finally block, which always executes.\")\n",
    "\n",
    "\n",
    "if __name__ == \"__main__\":\n",
    "    a = 1\n",
    "    b = 0\n",
    "    do_division(a, b)"
   ]
  },
  {
   "cell_type": "code",
   "execution_count": null,
   "id": "102f9c84",
   "metadata": {},
   "outputs": [],
   "source": []
  }
 ],
 "metadata": {
  "kernelspec": {
   "display_name": "Python 3",
   "language": "python",
   "name": "python3"
  },
  "language_info": {
   "codemirror_mode": {
    "name": "ipython",
    "version": 3
   },
   "file_extension": ".py",
   "mimetype": "text/x-python",
   "name": "python",
   "nbconvert_exporter": "python",
   "pygments_lexer": "ipython3",
   "version": "3.12.2"
  }
 },
 "nbformat": 4,
 "nbformat_minor": 5
}
