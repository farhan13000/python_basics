{
 "cells": [
  {
   "cell_type": "code",
   "execution_count": 1,
   "id": "aba89b78",
   "metadata": {},
   "outputs": [
    {
     "name": "stdout",
     "output_type": "stream",
     "text": [
      "Hello\n"
     ]
    }
   ],
   "source": [
    "print(\"Hello\")"
   ]
  },
  {
   "cell_type": "code",
   "execution_count": 8,
   "id": "d08e44f6",
   "metadata": {},
   "outputs": [
    {
     "name": "stdout",
     "output_type": "stream",
     "text": [
      "10\n",
      "<class 'int'>\n",
      "140720815164120\n",
      "20\n",
      "<class 'int'>\n",
      "140720815164440\n",
      "Prints hexadicmal value of address of a 0x7ffc1e334c18\n",
      "Prints binary value of address of a 0b10100\n",
      "Prints octal value of address of a 0o24\n",
      "Prints the type of id(a) <class 'int'>\n"
     ]
    }
   ],
   "source": [
    "a = 10\n",
    "print(a)\n",
    "print(type(a))\n",
    "print(id(a))\n",
    "# id is the memory address of the object\n",
    "a = 20\n",
    "print(a)\n",
    "print(type(a))\n",
    "print(id(a))\n",
    "print(\"Prints hexadicmal value of address of a\", hex(id(a)))\n",
    "print(\"Prints binary value of address of a\", bin(a))\n",
    "print(\"Prints octal value of address of a\", oct((a)))\n",
    "print(\"Prints the type of id(a)\", type(id(a)))"
   ]
  },
  {
   "cell_type": "code",
   "execution_count": 5,
   "id": "d44eb1ab",
   "metadata": {},
   "outputs": [
    {
     "name": "stdout",
     "output_type": "stream",
     "text": [
      "All about data types in python with their memory size and ranges\n",
      "int:  <class 'int'> Size:  28 Range:  -2147483648 to 2147483647\n",
      "float:  <class 'float'> Size:  24 Range:  -1.7e+308 to 1.7e+308\n",
      "str:  <class 'str'> Size:  46 Range:  depends on length of string\n",
      "bool:  <class 'bool'> Size:  28 Range:  True or False\n",
      "list:  <class 'list'> Size:  72 Range:  depends on length of list\n",
      "tuple:  <class 'tuple'> Size:  48 Range:  depends on length of tuple\n",
      "dict:  <class 'dict'> Size:  168 Range:  depends on number of key-value pairs\n",
      "set:  <class 'set'> Size:  200 Range:  depends on number of elements\n",
      "bytes:  <class 'bytes'> Size:  38 Range:  depends on length of bytes\n",
      "complex:  <class 'complex'> Size:  32 Range:  depends on real and imaginary parts\n",
      "NoneType:  <class 'NoneType'> Size:  16 Range:  None represents the absence of a value\n",
      "frozenset:  <class 'frozenset'> Size:  200 Range:  depends on number of elements\n",
      "memoryview:  <class 'memoryview'> Size:  168 Range:  depends on length of bytes\n"
     ]
    }
   ],
   "source": [
    "#All about data types in python with their memory size and ranges\n",
    "print(\"Data types in Python:\")\n",
    "\n",
    "# Give formula for calculating memory size of a data type (in bytes)\n"
   ]
  },
  {
   "cell_type": "code",
   "execution_count": 11,
   "id": "58181ce0",
   "metadata": {},
   "outputs": [
    {
     "name": "stdout",
     "output_type": "stream",
     "text": [
      "Integer: 10, Size: 28 bytes\n",
      "Type of a: <class 'int'>, Size: 28 bytes\n",
      "Type of b: <class 'float'>, Size: 24 bytes\n",
      "Type of x: <class 'list'>, Size: 88 bytes\n"
     ]
    }
   ],
   "source": [
    "a = 10\n",
    "b = 20.5\n",
    "x = [1, 2, 3, 4, 5]\n",
    "s = \"Hello, World\"\n",
    "c = 'x'\n",
    "print(f\"Integer: {a}, Size: {a.__sizeof__()} bytes\")\n",
    "type_of_int = type(a)\n",
    "type_of_float = type(b)\n",
    "type_of_list = type(x)\n",
    "print(f\"Type of a: {type_of_int}, Size: {a.__sizeof__()} bytes\")\n",
    "print(f\"Type of b: {type_of_float}, Size: {b.__sizeof__()} bytes\")\n",
    "print(f\"Type of x: {type_of_list}, Size: {x.__sizeof__()} bytes\")"
   ]
  },
  {
   "cell_type": "code",
   "execution_count": 18,
   "id": "e97df8bd",
   "metadata": {},
   "outputs": [
    {
     "name": "stdout",
     "output_type": "stream",
     "text": [
      "10\n",
      "<class 'int'>\n",
      "28\n",
      "10  is Integer? True\n",
      "28\n",
      "28\n",
      "24\n",
      "32\n"
     ]
    }
   ],
   "source": [
    "import sys\n",
    "\n",
    "\n",
    "val1 = 10  # Integer data type\n",
    "print(val1)\n",
    "print(type(val1)) # type of object\n",
    "print(sys.getsizeof(val1)) # size of integer object in bytes \n",
    "print(val1, \" is Integer?\", isinstance(val1, int)) \n",
    "print(sys.getsizeof(int())) # Size of integer object\n",
    "print(sys.getsizeof(bool()))  # Size of boolean object\n",
    "print(sys.getsizeof(float()))  # Size of float object\n",
    "print(sys.getsizeof(complex()))  # Size of complex object"
   ]
  },
  {
   "cell_type": "code",
   "execution_count": null,
   "id": "8e724f2f",
   "metadata": {},
   "outputs": [],
   "source": []
  },
  {
   "cell_type": "code",
   "execution_count": null,
   "id": "c3686dde",
   "metadata": {},
   "outputs": [],
   "source": []
  },
  {
   "cell_type": "code",
   "execution_count": null,
   "id": "aa84486f",
   "metadata": {},
   "outputs": [],
   "source": []
  },
  {
   "cell_type": "code",
   "execution_count": 21,
   "id": "c68fe741",
   "metadata": {},
   "outputs": [
    {
     "name": "stdout",
     "output_type": "stream",
     "text": [
      "H\n",
      "W\n",
      "Hello\n",
      "13\n",
      "Hello, World! How are you?\n",
      "hello, world!\n",
      "HELLO, WORLD!\n",
      "My name is Alice and I am 30 years old.\n",
      "Hello, Python!\n",
      "['Hello', 'World!']\n",
      "Hello - World!\n",
      "True\n",
      "True\n",
      "True\n",
      "7\n",
      "2\n",
      "!dlroW ,olleH\n",
      "False\n",
      "False\n",
      "False\n",
      "False\n",
      "False\n",
      "False\n",
      "13\n",
      "Jello, World!\n"
     ]
    }
   ],
   "source": [
    "# All about string in python\n",
    "s = \"Hello, World!\"\n",
    "# Accessing characters in a string\n",
    "print(s[0])  # Output: H\n",
    "print(s[7])  # Output: W\n",
    "# Slicing a string\n",
    "print(s[0:5])  # Output: Hello\n",
    "# String length\n",
    "print(len(s))  # Output: 13\n",
    "# String concatenation\n",
    "s2 = \" How are you?\"\n",
    "print(s + s2)  # Output: Hello, World! How are you?\n",
    "# String methods\n",
    "print(s.lower())  # Output: hello, world!\n",
    "print(s.upper())  # Output: HELLO, WORLD!\n",
    "# String formatting\n",
    "name = \"Alice\"\n",
    "age = 30\n",
    "print(f\"My name is {name} and I am {age} years old.\")  # Output: My name is Alice and I am 30 years old.\n",
    "# String replacement\n",
    "print(s.replace(\"World\", \"Python\"))  # Output: Hello, Python!\n",
    "# String splitting\n",
    "words = s.split(\", \")\n",
    "print(words)  # Output: ['Hello', 'World!']\n",
    "# String joining\n",
    "joined = \" - \".join(words)  # Output: Hello - World!\n",
    "print(joined)  # Output: Hello - World!\n",
    "# Checking if a string contains a substring\n",
    "print(\"Hello\" in s)  # Output: True\n",
    "# Checking if a string starts or ends with a substring\n",
    "print(s.startswith(\"Hello\"))  # Output: True\n",
    "print(s.endswith(\"!\"))  # Output: True\n",
    "# Finding the index of a substring\n",
    "print(s.find(\"World\"))  # Output: 7\n",
    "# Counting occurrences of a substring\n",
    "print(s.count(\"o\"))  # Output: 2\n",
    "# Reversing a string\n",
    "reversed_s = s[::-1]\n",
    "print(reversed_s)  # Output: !dlroW ,olleH\n",
    "# Checking if a string is alphanumeric\n",
    "print(s.isalnum())  # Output: False (because of the space and punctuation)\n",
    "# Checking if a string is alphabetic\n",
    "print(s.isalpha())  # Output: False (because of the space and punctuation)\n",
    "# Checking if a string is numeric\n",
    "print(s.isdigit())  # Output: False (because it contains letters and punctuation)\n",
    "# Checking if a string is printable\n",
    "print(s.isspace())  # Output: False (because it contains letters and punctuation)\n",
    "# Checking if a string is lower or upper case\n",
    "print(s.islower())  # Output: False (because it contains uppercase letters)\n",
    "print(s.isupper())  # Output: False (because it contains lowercase letters)\n",
    "print(len(s))  # Output: 13 (length of the string)\n",
    "\n",
    "\n",
    "\n",
    "# String are immutable in Python, meaning once created, they cannot be changed.\n",
    "# However, you can create a new string based on the original one.\n",
    "# For example, to change a character in a string, you can create a new string:\n",
    "s = \"Hello, World!\"\n",
    "# s[0] ='h'   ===================> Not Allowed, as strings are immutable\n",
    "s = s.replace(\"H\", \"J\")  # Replace 'H' with 'J'\n",
    "print(s)  # Output: Jello, World!\n",
    "\n",
    "# So delete and update operations on strings create new strings rather than modifying the original one.\n"
   ]
  },
  {
   "cell_type": "code",
   "execution_count": 24,
   "id": "a66044fa",
   "metadata": {},
   "outputs": [
    {
     "ename": "IndentationError",
     "evalue": "unexpected indent (3623650288.py, line 2)",
     "output_type": "error",
     "traceback": [
      "\u001b[1;36m  Cell \u001b[1;32mIn[24], line 2\u001b[1;36m\u001b[0m\n\u001b[1;33m    mystr = \"My favourite TV Series is \"Game of Thrones\"\"\u001b[0m\n\u001b[1;37m    ^\u001b[0m\n\u001b[1;31mIndentationError\u001b[0m\u001b[1;31m:\u001b[0m unexpected indent\n"
     ]
    }
   ],
   "source": [
    "#Using double quotes in the string is not allowed.\n",
    "mystr = \"My favourite TV Series is \"Game of Thrones\"\""
   ]
  },
  {
   "cell_type": "code",
   "execution_count": 27,
   "id": "ace6f6b9",
   "metadata": {},
   "outputs": [],
   "source": [
    "#Using double quotes in the string is not allowed.\n",
    "mystr = \"My favourite TV Series is \\\"Game of Thrones\\\"\""
   ]
  },
  {
   "cell_type": "code",
   "execution_count": 23,
   "id": "b4366e72",
   "metadata": {},
   "outputs": [
    {
     "name": "stdout",
     "output_type": "stream",
     "text": [
      "abc abc abc \n"
     ]
    }
   ],
   "source": [
    "s1 = 'abc '\n",
    "s_2 = s1 * 3\n",
    "print(s_2)  # Output: abc abc abc"
   ]
  },
  {
   "cell_type": "code",
   "execution_count": 31,
   "id": "3c26ad4e",
   "metadata": {},
   "outputs": [
    {
     "name": "stdout",
     "output_type": "stream",
     "text": [
      "F - a - r - h - a - n -   - K - h - a - n - \n"
     ]
    }
   ],
   "source": [
    "s3 = 'Farhan Khan'\n",
    "for i in s3:\n",
    "    print(i, end = ' - ')\n",
    "print()  # Output: F a r h a n   K h a n"
   ]
  },
  {
   "cell_type": "code",
   "execution_count": 22,
   "id": "ae1a770a",
   "metadata": {},
   "outputs": [
    {
     "data": {
      "text/plain": [
       "'\\nString methods in Python:\\n.capitalize(): Capitalize the first character of the string.\\n.upper(): Convert to uppercase.\\n.lower(): Convert to lowercase.\\n.find(): Find a substring\\'s index. ============ IMP\\n.replace(): Replace a substring with another.\\n.split(): Split a string into a list of substrings. ============ IMP\\n.join(): Join a sequence of strings using a separator. ============ IMP\\n.startswith(): Check if a string starts with a specific prefix.\\n.endswith(): Check if a string ends with a specific suffix.\\n.strip(): Remove leading and trailing whitespace. ============ IMP\\n.isdigit(): Check if all characters are digits.\\n.isalpha(): Check if all characters are alphabetic.\\n.isalnum(): Check if all characters are alphanumeric.\\n.isspace(): Check if all characters are whitespace.\\n\\n# String slicing\\n# String slicing allows you to extract a portion of a string.\\n# Syntax: string[start:end:step]\\nsliced_string = s[0:5]  # Extracts characters from index 0 to 4\\n# String concatenation\\n# String concatenation allows you to combine two or more strings.\\nconcatenated_string = s + \" How are you?\"  # Combines two strings\\n# String formatting\\n# String formatting allows you to create formatted strings using placeholders.\\nformatted_string = f\"My name is {name} and I am {age} years old.\"  # Using f-strings for formatting\\n# String replacement\\n# String replacement allows you to replace occurrences of a substring with another substring.\\nreplaced_string = s.replace(\"World\", \"Python\")  # Replaces \"World\" with \"Python\"\\n# String splitting\\n# String splitting allows you to split a string into a list of substrings based on a delimiter.\\nsplit_string = s.split(\", \")  # Splits the string at \", \" and returns a list\\n# String joining\\n# String joining allows you to combine a list of strings into a single string using a separator.\\njoined_string = \" - \".join(split_string)  # Joins the list with \" - \" as the separator\\n'"
      ]
     },
     "execution_count": 22,
     "metadata": {},
     "output_type": "execute_result"
    }
   ],
   "source": [
    "'''\n",
    "String methods in Python:\n",
    ".capitalize(): Capitalize the first character of the string.\n",
    ".upper(): Convert to uppercase.\n",
    ".lower(): Convert to lowercase.\n",
    ".find(): Find a substring's index. ============ IMP\n",
    ".replace(): Replace a substring with another.\n",
    ".split(): Split a string into a list of substrings. ============ IMP\n",
    ".join(): Join a sequence of strings using a separator. ============ IMP\n",
    ".startswith(): Check if a string starts with a specific prefix.\n",
    ".endswith(): Check if a string ends with a specific suffix.\n",
    ".strip(): Remove leading and trailing whitespace. ============ IMP\n",
    ".isdigit(): Check if all characters are digits.\n",
    ".isalpha(): Check if all characters are alphabetic.\n",
    ".isalnum(): Check if all characters are alphanumeric.\n",
    ".isspace(): Check if all characters are whitespace.\n",
    "\n",
    "# String slicing\n",
    "# String slicing allows you to extract a portion of a string.\n",
    "# Syntax: string[start:end:step]\n",
    "sliced_string = s[0:5]  # Extracts characters from index 0 to 4\n",
    "# String concatenation\n",
    "# String concatenation allows you to combine two or more strings.\n",
    "concatenated_string = s + \" How are you?\"  # Combines two strings\n",
    "# String formatting\n",
    "# String formatting allows you to create formatted strings using placeholders.\n",
    "formatted_string = f\"My name is {name} and I am {age} years old.\"  # Using f-strings for formatting\n",
    "# String replacement\n",
    "# String replacement allows you to replace occurrences of a substring with another substring.\n",
    "replaced_string = s.replace(\"World\", \"Python\")  # Replaces \"World\" with \"Python\"\n",
    "# String splitting\n",
    "# String splitting allows you to split a string into a list of substrings based on a delimiter.\n",
    "split_string = s.split(\", \")  # Splits the string at \", \" and returns a list\n",
    "# String joining\n",
    "# String joining allows you to combine a list of strings into a single string using a separator.\n",
    "joined_string = \" - \".join(split_string)  # Joins the list with \" - \" as the separator\n",
    "'''"
   ]
  },
  {
   "cell_type": "code",
   "execution_count": 37,
   "id": "95b83112",
   "metadata": {},
   "outputs": [
    {
     "name": "stdout",
     "output_type": "stream",
     "text": [
      "10\n",
      "10\n"
     ]
    }
   ],
   "source": [
    "# Pre and post increment in python\n",
    "a = 10\n",
    "#\n",
    "print(a)\n",
    "print(a)"
   ]
  },
  {
   "cell_type": "code",
   "execution_count": 39,
   "id": "26be5097",
   "metadata": {},
   "outputs": [
    {
     "name": "stdout",
     "output_type": "stream",
     "text": [
      "True\n"
     ]
    }
   ],
   "source": [
    "s1 = 'a, b, c, d'\n",
    "print('a' in s1)\n",
    "\n",
    "\n",
    "# in is a membership operator in str, list, tuple."
   ]
  },
  {
   "cell_type": "code",
   "execution_count": 1,
   "id": "c6b02e9c",
   "metadata": {},
   "outputs": [
    {
     "ename": "NameError",
     "evalue": "name '__main__' is not defined",
     "output_type": "error",
     "traceback": [
      "\u001b[1;31m---------------------------------------------------------------------------\u001b[0m",
      "\u001b[1;31mNameError\u001b[0m                                 Traceback (most recent call last)",
      "Cell \u001b[1;32mIn[1], line 1\u001b[0m\n\u001b[1;32m----> 1\u001b[0m \u001b[43m__main__\u001b[49m\n",
      "\u001b[1;31mNameError\u001b[0m: name '__main__' is not defined"
     ]
    }
   ],
   "source": [
    "__main__"
   ]
  },
  {
   "cell_type": "code",
   "execution_count": 2,
   "id": "74a5beb3",
   "metadata": {},
   "outputs": [
    {
     "data": {
      "text/plain": [
       "'__main__'"
      ]
     },
     "execution_count": 2,
     "metadata": {},
     "output_type": "execute_result"
    }
   ],
   "source": [
    "__name__"
   ]
  },
  {
   "cell_type": "code",
   "execution_count": 3,
   "id": "6bb978d8",
   "metadata": {},
   "outputs": [
    {
     "name": "stdout",
     "output_type": "stream",
     "text": [
      "The area of the triangle is: 50\n"
     ]
    }
   ],
   "source": [
    "def area(h, b):\n",
    "    return (h * b)\n",
    "\n",
    "if __name__ == \"__main__\":\n",
    "    height = 5\n",
    "    base = 10\n",
    "    print(f\"The area of the triangle is: {area(height, base)}\")\n",
    "\n",
    "\n",
    "\n"
   ]
  },
  {
   "cell_type": "code",
   "execution_count": null,
   "id": "8045e638",
   "metadata": {},
   "outputs": [],
   "source": []
  }
 ],
 "metadata": {
  "kernelspec": {
   "display_name": "Python 3",
   "language": "python",
   "name": "python3"
  },
  "language_info": {
   "codemirror_mode": {
    "name": "ipython",
    "version": 3
   },
   "file_extension": ".py",
   "mimetype": "text/x-python",
   "name": "python",
   "nbconvert_exporter": "python",
   "pygments_lexer": "ipython3",
   "version": "3.12.2"
  }
 },
 "nbformat": 4,
 "nbformat_minor": 5
}
