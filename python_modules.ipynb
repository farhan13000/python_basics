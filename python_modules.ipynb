{
 "cells": [
  {
   "cell_type": "markdown",
   "id": "a59a18b6",
   "metadata": {},
   "source": [
    "#### The whole idea of \"reuse\" applied in the programming world applies as well.\n"
   ]
  },
  {
   "cell_type": "markdown",
   "id": "4b4c32a3",
   "metadata": {},
   "source": [
    "- Module ia a way to reuse the reuse the code writen by someone else"
   ]
  },
  {
   "cell_type": "code",
   "execution_count": 7,
   "id": "77f67ef3",
   "metadata": {},
   "outputs": [
    {
     "name": "stdout",
     "output_type": "stream",
     "text": [
      "2.0\n",
      "4.0\n"
     ]
    }
   ],
   "source": [
    "import math\n",
    "\n",
    "sqrt = math.sqrt(4)\n",
    "print(sqrt)\n",
    "\n",
    "print(math.log10(10000))"
   ]
  },
  {
   "cell_type": "code",
   "execution_count": 5,
   "id": "3a01e84f",
   "metadata": {},
   "outputs": [
    {
     "name": "stdout",
     "output_type": "stream",
     "text": [
      "['__doc__', '__loader__', '__name__', '__package__', '__spec__', 'acos', 'acosh', 'asin', 'asinh', 'atan', 'atan2', 'atanh', 'cbrt', 'ceil', 'comb', 'copysign', 'cos', 'cosh', 'degrees', 'dist', 'e', 'erf', 'erfc', 'exp', 'exp2', 'expm1', 'fabs', 'factorial', 'floor', 'fmod', 'frexp', 'fsum', 'gamma', 'gcd', 'hypot', 'inf', 'isclose', 'isfinite', 'isinf', 'isnan', 'isqrt', 'lcm', 'ldexp', 'lgamma', 'log', 'log10', 'log1p', 'log2', 'modf', 'nan', 'nextafter', 'perm', 'pi', 'pow', 'prod', 'radians', 'remainder', 'sin', 'sinh', 'sqrt', 'sumprod', 'tan', 'tanh', 'tau', 'trunc', 'ulp']\n"
     ]
    }
   ],
   "source": [
    "print(dir(math))"
   ]
  },
  {
   "cell_type": "code",
   "execution_count": 9,
   "id": "0477f34f",
   "metadata": {},
   "outputs": [
    {
     "name": "stdout",
     "output_type": "stream",
     "text": [
      "True\n",
      "   February 2020\n",
      "Mo Tu We Th Fr Sa Su\n",
      "                1  2\n",
      " 3  4  5  6  7  8  9\n",
      "10 11 12 13 14 15 16\n",
      "17 18 19 20 21 22 23\n",
      "24 25 26 27 28 29\n",
      "\n",
      "['APRIL', 'AUGUST', 'Calendar', 'DECEMBER', 'Day', 'EPOCH', 'FEBRUARY', 'FRIDAY', 'HTMLCalendar', 'IllegalMonthError', 'IllegalWeekdayError', 'IntEnum', 'JANUARY', 'JULY', 'JUNE', 'LocaleHTMLCalendar', 'LocaleTextCalendar', 'MARCH', 'MAY', 'MONDAY', 'Month', 'NOVEMBER', 'OCTOBER', 'SATURDAY', 'SEPTEMBER', 'SUNDAY', 'THURSDAY', 'TUESDAY', 'TextCalendar', 'WEDNESDAY', '_EPOCH_ORD', '__all__', '__builtins__', '__cached__', '__doc__', '__file__', '__getattr__', '__loader__', '__name__', '__package__', '__spec__', '_colwidth', '_get_default_locale', '_locale', '_localized_day', '_localized_month', '_monthlen', '_nextmonth', '_prevmonth', '_spacing', 'c', 'calendar', 'datetime', 'day_abbr', 'day_name', 'different_locale', 'error', 'firstweekday', 'format', 'formatstring', 'global_enum', 'isleap', 'leapdays', 'main', 'mdays', 'month', 'month_abbr', 'month_name', 'monthcalendar', 'monthrange', 'prcal', 'prmonth', 'prweek', 'repeat', 'setfirstweekday', 'sys', 'timegm', 'warnings', 'week', 'weekday', 'weekheader']\n"
     ]
    }
   ],
   "source": [
    "import calendar\n",
    "\n",
    "print(calendar.isleap(2020))\n",
    "print(calendar.month(2020, 2))\n",
    "\n",
    "print(dir(calendar))"
   ]
  },
  {
   "cell_type": "markdown",
   "id": "73780717",
   "metadata": {},
   "source": [
    "#####  os Module – Operating System Interface\n",
    "- The os module lets you interact with the underlying operating system, such as file system operations, environment variables, process management, and more."
   ]
  },
  {
   "cell_type": "code",
   "execution_count": 12,
   "id": "db391a57",
   "metadata": {},
   "outputs": [
    {
     "name": "stdout",
     "output_type": "stream",
     "text": [
      "c:\\Users\\HP\\OneDrive\\Desktop\\Python\n",
      "['.git', 'area_rectangle.py', 'area_triangle.py', 'calculate_area.py', 'farhan_functions.py', 'playing_with_modules.py', 'python_basics.ipynb', 'python_continue_and_break.ipynb', 'python_exception_handling.ipynb', 'python_list.ipynb', 'python_modules.ipynb', 'Python_tuples.ipynb', 'README.md', '__pycache__']\n"
     ]
    }
   ],
   "source": [
    "import os\n",
    "\n",
    "print(os.getcwd())  # Get current working directory\n",
    "print(os.listdir())  # List files in the current directory\n"
   ]
  },
  {
   "cell_type": "code",
   "execution_count": null,
   "id": "983a60ba",
   "metadata": {},
   "outputs": [],
   "source": [
    "file_path = \"/home/user/file.txt\"\n",
    "print(os.path.basename(file_path))  # file.txt\n",
    "print(os.path.dirname(file_path))   # /home/user\n",
    "print(os.path.exists(file_path))    # Check if file exists\n",
    "print(os.path.join(\"/home/user\", \"file.txt\"))  # Join paths\n"
   ]
  },
  {
   "cell_type": "markdown",
   "id": "30e6c334",
   "metadata": {},
   "source": [
    "#### The `sys` module provides access to variables and functions that interact directly with the Python interpreter.\n"
   ]
  },
  {
   "cell_type": "code",
   "execution_count": 13,
   "id": "73f8f912",
   "metadata": {},
   "outputs": [
    {
     "name": "stdout",
     "output_type": "stream",
     "text": [
      "['c:\\\\Users\\\\HP\\\\AppData\\\\Local\\\\Programs\\\\Python\\\\Python312\\\\Lib\\\\site-packages\\\\ipykernel_launcher.py', '--f=c:\\\\Users\\\\HP\\\\AppData\\\\Roaming\\\\jupyter\\\\runtime\\\\kernel-v3e1c8fb3145ac4970ffff027fca80d3dd08e4ed56.json']\n",
      "--f=c:\\Users\\HP\\AppData\\Roaming\\jupyter\\runtime\\kernel-v3e1c8fb3145ac4970ffff027fca80d3dd08e4ed56.json\n"
     ]
    }
   ],
   "source": [
    "# python script.py arg1 arg2\n",
    "import sys\n",
    "print(sys.argv)        # List of command-line arguments\n",
    "print(sys.argv[1])     # First argument (after script name)\n"
   ]
  },
  {
   "cell_type": "code",
   "execution_count": null,
   "id": "75833120",
   "metadata": {},
   "outputs": [
    {
     "name": "stdout",
     "output_type": "stream",
     "text": [
      "3.12.2 (tags/v3.12.2:6abddd9, Feb  6 2024, 21:26:36) [MSC v.1937 64 bit (AMD64)]\n",
      "sys.version_info(major=3, minor=12, micro=2, releaselevel='final', serial=0)\n"
     ]
    }
   ],
   "source": [
    "print(sys.version)         # Full version string\n",
    "print(sys.version_info)    # Tuple (major, minor, micro)"
   ]
  },
  {
   "cell_type": "code",
   "execution_count": null,
   "id": "313c7567",
   "metadata": {},
   "outputs": [],
   "source": []
  }
 ],
 "metadata": {
  "kernelspec": {
   "display_name": "Python 3",
   "language": "python",
   "name": "python3"
  },
  "language_info": {
   "codemirror_mode": {
    "name": "ipython",
    "version": 3
   },
   "file_extension": ".py",
   "mimetype": "text/x-python",
   "name": "python",
   "nbconvert_exporter": "python",
   "pygments_lexer": "ipython3",
   "version": "3.12.2"
  }
 },
 "nbformat": 4,
 "nbformat_minor": 5
}
